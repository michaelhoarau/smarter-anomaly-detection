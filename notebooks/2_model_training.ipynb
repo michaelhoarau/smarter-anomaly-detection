{
 "cells": [
  {
   "cell_type": "markdown",
   "id": "13dfc713",
   "metadata": {},
   "source": [
    "# **Smarter anomaly detection** - Training an anomaly detection model\n",
    "*Part 2 - Model training*"
   ]
  },
  {
   "cell_type": "markdown",
   "id": "b0f8bbbd",
   "metadata": {},
   "source": [
    "## Initialization\n",
    "---\n",
    "This repository is structured as follow:\n",
    "\n",
    "```sh\n",
    ". smarter-anomaly-detection\n",
    "|\n",
    "├── data/\n",
    "|   ├── interim                          # Temporary intermediate data are stored here\n",
    "|   ├── processed                        # Finalized datasets ready to be moved to Amazon S3\n",
    "|   └── raw                              # Immutable original data are stored here\n",
    "|\n",
    "└── notebooks/\n",
    "    ├── 1_data_preparation.ipynb\n",
    "    ├── 2_model_training.ipynb           <<< THIS NOTEBOOK <<<\n",
    "    └── 3_model_evaluation.ipynb\n",
    "```"
   ]
  },
  {
   "cell_type": "markdown",
   "id": "63a87df9",
   "metadata": {},
   "source": [
    "### Notebook configuration update"
   ]
  },
  {
   "cell_type": "code",
   "execution_count": null,
   "id": "101cebd5",
   "metadata": {},
   "outputs": [],
   "source": [
    "!python -m pip install --upgrade pip\n",
    "!pip install --quiet --upgrade sagemaker tqdm lookoutequipment"
   ]
  },
  {
   "cell_type": "markdown",
   "id": "cd2e21d6",
   "metadata": {},
   "source": [
    "### Imports"
   ]
  },
  {
   "cell_type": "code",
   "execution_count": null,
   "id": "0c2f74a8",
   "metadata": {},
   "outputs": [],
   "source": [
    "import config\n",
    "import os\n",
    "import pandas as pd\n",
    "import sagemaker\n",
    "\n",
    "from datetime import datetime\n",
    "\n",
    "# SDK / toolbox for managing Lookout for Equipment API calls:\n",
    "import lookoutequipment as lookout"
   ]
  },
  {
   "cell_type": "code",
   "execution_count": null,
   "id": "ffc89e5c",
   "metadata": {},
   "outputs": [],
   "source": [
    "PROCESSED_DATA = os.path.join('..', 'data', 'processed')\n",
    "TRAIN_DATA     = os.path.join(PROCESSED_DATA, 'train-data')\n",
    "\n",
    "ROLE_ARN        = sagemaker.get_execution_role()\n",
    "DATASET_NAME    = config.DATASET_NAME\n",
    "MODEL_NAME      = config.MODEL_NAME\n",
    "BUCKET          = config.BUCKET\n",
    "PREFIX_TRAINING = config.PREFIX_TRAINING\n",
    "PREFIX_LABEL    = config.PREFIX_LABEL"
   ]
  },
  {
   "cell_type": "markdown",
   "id": "fd5e62ae",
   "metadata": {},
   "source": [
    "## Data ingestion\n",
    "---"
   ]
  },
  {
   "cell_type": "code",
   "execution_count": null,
   "id": "10fc5841",
   "metadata": {},
   "outputs": [],
   "source": [
    "lookout_dataset = lookout.LookoutEquipmentDataset(\n",
    "    dataset_name=DATASET_NAME,\n",
    "    component_root_dir=f's3://{BUCKET}/{PREFIX_TRAINING}',\n",
    "    access_role_arn=ROLE_ARN\n",
    ")\n",
    "lookout_dataset.create()\n",
    "response = lookout_dataset.ingest_data(BUCKET, PREFIX_TRAINING)"
   ]
  },
  {
   "cell_type": "markdown",
   "id": "1e4aa8cd",
   "metadata": {},
   "source": [
    "We use the following cell to monitor the ingestion process by calling the following method, which encapsulates the [**DescribeDataIngestionJob**](https://docs.aws.amazon.com/lookout-for-equipment/latest/ug/API_DescribeDataIngestionJob.html) API and runs it every 60 seconds:"
   ]
  },
  {
   "cell_type": "code",
   "execution_count": null,
   "id": "aa2d35ed",
   "metadata": {},
   "outputs": [],
   "source": [
    "lookout_dataset.poll_data_ingestion(sleep_time=60)"
   ]
  },
  {
   "cell_type": "markdown",
   "id": "7381aa1e",
   "metadata": {},
   "source": [
    "In case any issue arise, you can inspect the API response available as a JSON document:"
   ]
  },
  {
   "cell_type": "code",
   "execution_count": null,
   "id": "38fdd1fd",
   "metadata": {},
   "outputs": [],
   "source": [
    "lookout_dataset.ingestion_job_response"
   ]
  },
  {
   "cell_type": "markdown",
   "id": "36c4da43",
   "metadata": {},
   "source": [
    "## Model training\n",
    "---"
   ]
  },
  {
   "cell_type": "code",
   "execution_count": null,
   "id": "f2c03b20",
   "metadata": {},
   "outputs": [],
   "source": [
    "# Configuring time ranges:\n",
    "training_start   = pd.to_datetime('2016-07-28 00:04:00')\n",
    "training_end     = pd.to_datetime('2017-03-31 23:59:00')\n",
    "evaluation_start = pd.to_datetime('2017-04-01 00:04:00')\n",
    "evaluation_end   = pd.to_datetime('2018-08-31 23:59:00')\n",
    "\n",
    "print(f'  Training period | from {training_start} to {training_end}')\n",
    "print(f'Evaluation period | from {evaluation_start} to {evaluation_end}')"
   ]
  },
  {
   "cell_type": "code",
   "execution_count": null,
   "id": "6d287d7d",
   "metadata": {},
   "outputs": [],
   "source": [
    "lookout_model = lookout.LookoutEquipmentModel(model_name=MODEL_NAME, dataset_name=DATASET_NAME)\n",
    "lookout_model.set_time_periods(evaluation_start, evaluation_end, training_start, training_end)\n",
    "lookout_model.set_label_data(bucket=BUCKET, prefix=PREFIX_LABEL, access_role_arn=ROLE_ARN)\n",
    "lookout_model.train()"
   ]
  },
  {
   "cell_type": "markdown",
   "id": "23ec3707",
   "metadata": {},
   "source": [
    "A training is now in progress. Use the following cell to capture the model training progress. **This model should take around 30-45 minutes to be trained:**"
   ]
  },
  {
   "cell_type": "code",
   "execution_count": null,
   "id": "3f126e5a",
   "metadata": {},
   "outputs": [],
   "source": [
    "lookout_model.poll_model_training(sleep_time=60)"
   ]
  },
  {
   "cell_type": "markdown",
   "id": "a44d0cee",
   "metadata": {},
   "source": [
    "## Conclusion\n",
    "---\n",
    "In this notebook, you ingested the data you prepared previously and trained an anomaly detection model with Amazon Lookout for Equipment.\n",
    "\n",
    "In the next notebook of this series, you will dive into the results of this trained model."
   ]
  }
 ],
 "metadata": {
  "kernelspec": {
   "display_name": "conda_python3",
   "language": "python",
   "name": "conda_python3"
  },
  "language_info": {
   "codemirror_mode": {
    "name": "ipython",
    "version": 3
   },
   "file_extension": ".py",
   "mimetype": "text/x-python",
   "name": "python",
   "nbconvert_exporter": "python",
   "pygments_lexer": "ipython3",
   "version": "3.8.12"
  }
 },
 "nbformat": 4,
 "nbformat_minor": 5
}
