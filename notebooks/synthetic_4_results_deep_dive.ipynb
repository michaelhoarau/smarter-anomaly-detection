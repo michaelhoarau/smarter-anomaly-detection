{
 "cells": [
  {
   "cell_type": "markdown",
   "id": "77f8ecdb",
   "metadata": {},
   "source": [
    "# **Smarter anomaly detection** - Post-processing back-test results\n",
    "*Part 3 - Results post-processing*\n",
    "\n",
    "## Initialization\n",
    "---\n",
    "This repository is structured as follow:\n",
    "\n",
    "```sh\n",
    ". smarter-anomaly-detection\n",
    "|\n",
    "├── data/\n",
    "|   ├── interim                          # Temporary intermediate data are stored here\n",
    "|   ├── processed                        # Finalized datasets ready to be moved to Amazon S3\n",
    "|   └── raw                              # Immutable original data are stored here\n",
    "|\n",
    "└── notebooks/\n",
    "    ├── 1_data_preparation.ipynb\n",
    "    ├── 2_model_training.ipynb\n",
    "    └── 3_model_evaluation.ipynb         <<< THIS NOTEBOOK <<<\n",
    "```"
   ]
  },
  {
   "cell_type": "markdown",
   "id": "e1bbcb98",
   "metadata": {},
   "source": [
    "### Notebook configuration update"
   ]
  },
  {
   "cell_type": "code",
   "execution_count": null,
   "id": "0a23039d",
   "metadata": {},
   "outputs": [],
   "source": [
    "!pip install --quiet --upgrade lookoutequipment"
   ]
  },
  {
   "cell_type": "markdown",
   "id": "1655c320",
   "metadata": {},
   "source": [
    "### Imports"
   ]
  },
  {
   "cell_type": "code",
   "execution_count": null,
   "id": "b8cfaf6f",
   "metadata": {},
   "outputs": [],
   "source": [
    "import boto3\n",
    "import synthetic_config as config\n",
    "import matplotlib.pyplot as plt\n",
    "import numpy as np\n",
    "import os\n",
    "import pandas as pd\n",
    "import sagemaker\n",
    "\n",
    "from matplotlib.gridspec import GridSpec\n",
    "\n",
    "# SDK / toolbox for managing Lookout for Equipment API calls:\n",
    "import lookoutequipment as lookout"
   ]
  },
  {
   "cell_type": "markdown",
   "id": "9b8ca208",
   "metadata": {},
   "source": [
    "### Parameters"
   ]
  },
  {
   "cell_type": "code",
   "execution_count": null,
   "id": "9bf67736",
   "metadata": {},
   "outputs": [],
   "source": [
    "TMP_DATA       = os.path.join('..', 'data', 'interim')\n",
    "PROCESSED_DATA = os.path.join('..', 'data', 'processed')\n",
    "LABEL_DATA     = os.path.join(PROCESSED_DATA, 'label-data')\n",
    "TRAIN_DATA     = os.path.join(PROCESSED_DATA, 'train-data', 'synthetic')\n",
    "\n",
    "MODEL_NAME     = config.MODEL_NAME\n",
    "DATASET_NAME   = config.DATASET_NAME\n",
    "ROLE_ARN       = sagemaker.get_execution_role()"
   ]
  },
  {
   "cell_type": "code",
   "execution_count": null,
   "id": "bdddfac1",
   "metadata": {},
   "outputs": [],
   "source": [
    "%matplotlib inline\n",
    "plt.style.use('fivethirtyeight')\n",
    "prop_cycle = plt.rcParams['axes.prop_cycle']\n",
    "colors = prop_cycle.by_key()['color']\n",
    "plt.rcParams['lines.linewidth'] = 1.0"
   ]
  },
  {
   "cell_type": "markdown",
   "id": "4fadfb4f",
   "metadata": {},
   "source": [
    "### Loading original datasets for visualization purpose"
   ]
  },
  {
   "cell_type": "code",
   "execution_count": null,
   "id": "e0228bee",
   "metadata": {},
   "outputs": [],
   "source": [
    "all_tags_fname = os.path.join(TRAIN_DATA, 'sensors.csv')\n",
    "all_tags_df = pd.read_csv(all_tags_fname)\n",
    "all_tags_df['Timestamp'] = pd.to_datetime(all_tags_df['Timestamp'])\n",
    "all_tags_df = all_tags_df.set_index('Timestamp')"
   ]
  },
  {
   "cell_type": "markdown",
   "id": "1c517e2d",
   "metadata": {},
   "source": [
    "### Helper functions"
   ]
  },
  {
   "cell_type": "code",
   "execution_count": null,
   "id": "578b68ea",
   "metadata": {},
   "outputs": [],
   "source": [
    "def plot_ranges(range_df, range_title, color, ax):\n",
    "    ax.plot(range_df['Label'], color=color)\n",
    "    ax.fill_between(range_df.index, \n",
    "                    y1=range_df['Label'], \n",
    "                    y2=0, \n",
    "                    alpha=0.1, \n",
    "                    color=color)\n",
    "    ax.axes.get_xaxis().set_ticks([])\n",
    "    ax.axes.get_yaxis().set_ticks([])\n",
    "    ax.set_xlabel(range_title, fontsize=12)\n",
    "\n",
    "def compute_bin_edges(signals, num_bins=10):\n",
    "    # Checks if the argument is a nested type or a numeric one:\n",
    "    if isinstance(signals[0], (int, float)):\n",
    "        all_signals_min = np.min(signals)\n",
    "        all_signals_max = np.max(signals)\n",
    "        \n",
    "    # For nested type (list of pandas.Series, list of lists...), we\n",
    "    # need to compute the min and max of each component of the list:\n",
    "    else:\n",
    "        all_signals_max = None\n",
    "        all_signals_min = None\n",
    "        for s in signals:\n",
    "            signal_max = np.max(s)\n",
    "            if (all_signals_max is not None) and (signal_max > all_signals_max):\n",
    "                all_signals_max = signal_max\n",
    "            elif all_signals_max is None:\n",
    "                all_signals_max = signal_max\n",
    "                \n",
    "            signal_min = np.min(s)\n",
    "            if (all_signals_min is not None) and (signal_min < all_signals_min):\n",
    "                all_signals_min = signal_min\n",
    "            elif all_signals_min is None:\n",
    "                all_signals_min = signal_min\n",
    "        \n",
    "    # Now we can compute the bin width and their edges:\n",
    "    bin_width = (all_signals_max - all_signals_min)/num_bins\n",
    "    bins = np.arange(\n",
    "        all_signals_min, \n",
    "        all_signals_max + bin_width, \n",
    "        bin_width\n",
    "    )\n",
    "    \n",
    "    return bins\n",
    "\n",
    "def plot_histogram_comparison(timeseries_1, \n",
    "                              timeseries_2, \n",
    "                              ax=None, \n",
    "                              label_timeseries_1=None, \n",
    "                              label_timeseries_2=None, \n",
    "                              show_legend=True,\n",
    "                              num_bins=10\n",
    "                             ):\n",
    "    bins = compute_bin_edges([timeseries_1, timeseries_2], num_bins=num_bins)\n",
    "    \n",
    "    if ax is None:\n",
    "        fig = plt.figure()\n",
    "        ax = fig.add_subplot(1,1,1)\n",
    "    \n",
    "    ax.hist(timeseries_1, \n",
    "            density=True, \n",
    "            alpha=0.5, \n",
    "            bins=bins, \n",
    "            edgecolor='#FFFFFF', \n",
    "            color='tab:red', \n",
    "            label=label_timeseries_1)\n",
    "            \n",
    "    ax.hist(timeseries_2, \n",
    "            density=True, \n",
    "            alpha=0.5, \n",
    "            bins=bins, \n",
    "            edgecolor='#FFFFFF', \n",
    "            color='tab:blue', \n",
    "            label=label_timeseries_2)\n",
    "    \n",
    "    ax.grid(False)\n",
    "    ax.get_yaxis().set_visible(False)\n",
    "    \n",
    "    if (show_legend) and \\\n",
    "       (label_timeseries_1 is not None) and \\\n",
    "       (label_timeseries_2 is not None):\n",
    "        ax.legend(framealpha=0.5, fontsize=12)\n",
    "        \n",
    "    return ax\n",
    "\n",
    "def plot_histograms(current_tag, expanded_results, freq='1min', fig_width=6, fig_height=6, start=None, end=None):\n",
    "    abnormal_index = predictions_df[predictions_df['Label'] > 0.0].index\n",
    "    normal_index = predictions_df[predictions_df['Label'] == 0.0].index\n",
    "\n",
    "    if (start is not None) and (end is not None):\n",
    "        abnormal_index = predictions_df[predictions_df['Label'] > 0.0]\n",
    "        abnormal_index = abnormal_index.loc[start:end].index\n",
    "        normal_index = predictions_df[predictions_df['Label'] == 0.0]\n",
    "        normal_index = normal_index.loc[start:end].index\n",
    "        expanded_results = expanded_results.loc[start:end]\n",
    "\n",
    "    fig = plt.figure(figsize=(fig_width, fig_height))\n",
    "    ax = fig.add_subplot(111)\n",
    "\n",
    "    current_df = all_tags_df[current_tag]\n",
    "    ts1 = current_df.reindex(normal_index).copy()\n",
    "    ts2 = current_df.reindex(abnormal_index).copy()\n",
    "\n",
    "    plot_histogram_comparison(ts2,\n",
    "                              ts1,\n",
    "                              ax=ax, \n",
    "                              label_timeseries_1=f'Values during abnormal events',\n",
    "                              label_timeseries_2=f'Values during normal periods',\n",
    "                              num_bins=50)\n",
    "    ax.set_title(current_tag)\n",
    "\n",
    "    return fig, ax"
   ]
  },
  {
   "cell_type": "markdown",
   "id": "20195aa1",
   "metadata": {},
   "source": [
    "## Extracting model back-test results\n",
    "---"
   ]
  },
  {
   "cell_type": "markdown",
   "id": "02a9f17f",
   "metadata": {},
   "source": [
    "The [**DescribeModel**](https://docs.aws.amazon.com/lookout-for-equipment/latest/ug/API_DescribeModel.html) API can be used to extract, among other things, the metrics associated to the trained model. Here are the different fields available when calling this API:"
   ]
  },
  {
   "cell_type": "code",
   "execution_count": null,
   "id": "a55d7400",
   "metadata": {},
   "outputs": [],
   "source": [
    "lookout_dataset = lookout.LookoutEquipmentDataset(\n",
    "    dataset_name=DATASET_NAME, \n",
    "    access_role_arn=ROLE_ARN,\n",
    "    component_root_dir=TRAIN_DATA\n",
    ")\n",
    "response = lookout_dataset.client.describe_model(ModelName=MODEL_NAME)\n",
    "training_start   = pd.to_datetime(response['TrainingDataStartTime']).tz_localize(None)\n",
    "training_end     = pd.to_datetime(response['TrainingDataEndTime']).tz_localize(None)\n",
    "evaluation_start = pd.to_datetime(response['EvaluationDataStartTime']).tz_localize(None)\n",
    "evaluation_end   = pd.to_datetime(response['EvaluationDataEndTime']).tz_localize(None)"
   ]
  },
  {
   "cell_type": "code",
   "execution_count": null,
   "id": "a192fc3d",
   "metadata": {},
   "outputs": [],
   "source": [
    "LookoutDiagnostics = lookout.LookoutEquipmentAnalysis(model_name=MODEL_NAME, tags_df=all_tags_df)\n",
    "LookoutDiagnostics.set_time_periods(evaluation_start, evaluation_end, training_start, training_end)\n",
    "predicted_ranges = LookoutDiagnostics.get_predictions()\n",
    "labels_fname = os.path.join(LABEL_DATA, 'synthetic-labels.csv')\n",
    "labeled_range = LookoutDiagnostics.get_labels(labels_fname)"
   ]
  },
  {
   "cell_type": "markdown",
   "id": "4ca38d7d",
   "metadata": {},
   "source": [
    "## Visualizing original time series\n",
    "---"
   ]
  },
  {
   "cell_type": "code",
   "execution_count": null,
   "id": "2bc62ecd",
   "metadata": {},
   "outputs": [],
   "source": [
    "tags_list = list(all_tags_df.columns)"
   ]
  },
  {
   "cell_type": "code",
   "execution_count": null,
   "id": "e6d075f9",
   "metadata": {},
   "outputs": [],
   "source": [
    "nrows = 4\n",
    "ncols = 5\n",
    "fig = plt.figure(figsize=(6,3), dpi=150)\n",
    "gs = GridSpec(nrows=nrows, ncols=ncols, wspace=0.0, hspace=0.0)\n",
    "\n",
    "index = 0\n",
    "for i in range(0,nrows):\n",
    "    for j in range(0,ncols):\n",
    "        if index < len(tags_list):\n",
    "            ax = fig.add_subplot(gs[i * ncols + j])\n",
    "            current_tag = tags_list[index]\n",
    "            ax.plot(all_tags_df.loc[evaluation_start:evaluation_end, current_tag], color='#232F3E', linewidth=0.25, alpha=0.9)\n",
    "            ax.set_xticks([])\n",
    "            ax.set_yticks([])\n",
    "            \n",
    "            ax.set_facecolor(\"#FFFFFF\")\n",
    "            ax.grid(color='red', linestyle='-.', linewidth=0.7)\n",
    "\n",
    "        index += 1"
   ]
  },
  {
   "cell_type": "code",
   "execution_count": null,
   "id": "5eefd51a",
   "metadata": {},
   "outputs": [],
   "source": [
    "fig = plt.figure(figsize=(6,3), dpi=150)\n",
    "gs = GridSpec(nrows=nrows, ncols=ncols, wspace=0.0, hspace=0.0)\n",
    "\n",
    "index = 0\n",
    "for i in range(0,nrows):\n",
    "    for j in range(0,ncols):\n",
    "        if index < len(tags_list):\n",
    "            ax = fig.add_subplot(gs[i * ncols + j])\n",
    "            current_tag = tags_list[index]\n",
    "            current_tag_df = all_tags_df.loc[evaluation_start:evaluation_end, current_tag]\n",
    "            ax.plot(current_tag_df, color='#232F3E', linewidth=0.25, alpha=0.5)\n",
    "            \n",
    "            for _, row in predicted_ranges.iterrows():\n",
    "                event_start = row['start']\n",
    "                event_end = row['end']\n",
    "                ax.plot(all_tags_df.loc[event_start:event_end, current_tag], color='#bf0816', linewidth=0.5)\n",
    "            \n",
    "            ax.set_xticks([])\n",
    "            ax.set_yticks([])\n",
    "            \n",
    "            ax.set_facecolor(\"#FFFFFF\")\n",
    "            ax.grid(color='red', linestyle='-.', linewidth=0.7)\n",
    "\n",
    "        index += 1"
   ]
  },
  {
   "cell_type": "markdown",
   "id": "4cc3d8ec",
   "metadata": {},
   "source": [
    "### Plotting top contributors"
   ]
  },
  {
   "cell_type": "code",
   "execution_count": null,
   "id": "5fcb9e95",
   "metadata": {},
   "outputs": [],
   "source": [
    "TSViz = lookout.plot.TimeSeriesVisualization(timeseries_df=all_tags_df, data_format='tabular')\n",
    "TSViz.add_signal([tags_list[3]])\n",
    "TSViz.add_labels(labeled_range)\n",
    "TSViz.add_predictions([predicted_ranges])\n",
    "predictions_df = TSViz._convert_ranges(predicted_ranges, default_freq='10min')"
   ]
  },
  {
   "cell_type": "code",
   "execution_count": null,
   "id": "78f14879",
   "metadata": {},
   "outputs": [],
   "source": [
    "expanded_results = []\n",
    "for index, row in predicted_ranges.iterrows():\n",
    "    new_row = dict()\n",
    "    new_row.update({'start': row['start']})\n",
    "    new_row.update({'end': row['end']})\n",
    "    new_row.update({'prediction': 1.0})\n",
    "    \n",
    "    diagnostics = pd.DataFrame(row['diagnostics'])\n",
    "    diagnostics = dict(zip(diagnostics['name'], diagnostics['value']))\n",
    "    new_row = {**new_row, **diagnostics}\n",
    "        \n",
    "    expanded_results.append(new_row)\n",
    "    \n",
    "expanded_results = pd.DataFrame(expanded_results)\n",
    "\n",
    "df_list = []\n",
    "for index, row in expanded_results.iterrows():\n",
    "    new_index = pd.date_range(start=row['start'], end=row['end'], freq='5T')\n",
    "    new_df = pd.DataFrame(index=new_index)\n",
    "    \n",
    "    for tag in [t for t in tags_list]:\n",
    "        new_df[tag] = row[f'synthetic\\\\{tag}']\n",
    "        \n",
    "    df_list.append(new_df)\n",
    "    \n",
    "expanded_results = pd.concat(df_list, axis='index')\n",
    "expanded_results = expanded_results.reindex(predictions_df.index)\n",
    "expanded_results = expanded_results.resample('1D').mean()\n",
    "expanded_results = expanded_results.replace(to_replace=np.nan, value=0.0)"
   ]
  },
  {
   "cell_type": "code",
   "execution_count": null,
   "id": "dfa072d6",
   "metadata": {},
   "outputs": [],
   "source": [
    "df = expanded_results.loc[evaluation_start:evaluation_end, :].copy()\n",
    "current_tags_list = list(df.sum().sort_values(ascending=False).head(4).index)"
   ]
  },
  {
   "cell_type": "code",
   "execution_count": null,
   "id": "62e5e3be",
   "metadata": {},
   "outputs": [],
   "source": [
    "plot_start = pd.to_datetime('2021-08-01')\n",
    "plot_end = evaluation_end\n",
    "signal = 'signal_07'\n",
    "\n",
    "fig = plt.figure(figsize=(18,6))\n",
    "gs = GridSpec(nrows=3, ncols=1, height_ratios=[0.6, 0.1, 0.1], hspace=0.35)\n",
    "df = expanded_results.loc[plot_start:plot_end, :].copy()\n",
    "\n",
    "ax0 = fig.add_subplot(gs[0])\n",
    "ax0.plot(all_tags_df.loc[plot_start:plot_end, signal], color='#232F3E', linewidth=1.0, label=signal)\n",
    "for index, row in predicted_ranges.iterrows():\n",
    "    event_start = row['start']\n",
    "    event_end = row['end']\n",
    "    if index == 0:\n",
    "        ax0.plot(all_tags_df.loc[event_start:event_end, signal], color='#bf0816', linewidth=10.0, alpha=0.5, label='anomalies')\n",
    "    else:\n",
    "        ax0.plot(all_tags_df.loc[event_start:event_end, signal], color='#bf0816', linewidth=10.0, alpha=0.5)\n",
    "ax0.legend(loc='upper right', ncol=2, fontsize=12)\n",
    "ax0.set_xlim((plot_start, plot_end))\n",
    "\n",
    "ax3 = fig.add_subplot(gs[1])\n",
    "labels_df = TSViz._convert_ranges(labeled_range, default_freq='5min')\n",
    "plot_ranges(labels_df, 'Known anomalies', colors[3], ax3)\n",
    "ax3.set_xlim((plot_start, plot_end))\n",
    "\n",
    "ax3 = fig.add_subplot(gs[2])\n",
    "plot_ranges(predictions_df, 'Detected events', colors[1], ax3)\n",
    "ax3.set_xlim((plot_start, plot_end))\n",
    "\n",
    "plt.show()"
   ]
  },
  {
   "cell_type": "markdown",
   "id": "27fad252",
   "metadata": {},
   "source": [
    "## Histogram visualization\n",
    "---"
   ]
  },
  {
   "cell_type": "code",
   "execution_count": null,
   "id": "bfb969c5",
   "metadata": {},
   "outputs": [],
   "source": [
    "plot_start = pd.to_datetime(training_start)\n",
    "plot_end = pd.to_datetime('2021-10-15')\n",
    "\n",
    "fig, ax = plot_histograms('signal_07', expanded_results, freq='10min', fig_width=6, fig_height=6, start=plot_start, end=plot_end)\n",
    "ax = fig.axes[0]\n",
    "ax.vlines(1320, ymin=0.0, ymax=0.016, linestyle='--', linewidth=3.0, color='#067f68', alpha=0.5)\n",
    "ax.vlines(1320, ymin=0.0, ymax=0.016, linewidth=5.0, color='#067f68', alpha=0.1)\n",
    "ax.vlines(1450, ymin=0.0, ymax=0.016, linestyle='--', linewidth=3.0, color='#067f68', alpha=0.5)\n",
    "ax.vlines(1450, ymin=0.0, ymax=0.016, linewidth=5.0, color='#067f68', alpha=0.1)\n",
    "plt.show()"
   ]
  },
  {
   "cell_type": "code",
   "execution_count": null,
   "id": "8a2351d8",
   "metadata": {},
   "outputs": [],
   "source": [
    "plot_start = pd.to_datetime('2021-09-15')\n",
    "plot_end = pd.to_datetime(evaluation_end)\n",
    "\n",
    "fig, ax = plot_histograms('signal_07', expanded_results, freq='10min', fig_width=6, fig_height=6, start=plot_start, end=plot_end)\n",
    "plt.show()"
   ]
  },
  {
   "cell_type": "code",
   "execution_count": null,
   "id": "8583ff6d",
   "metadata": {},
   "outputs": [],
   "source": [
    "plot_start = pd.to_datetime('2021-09-15')\n",
    "plot_end = pd.to_datetime('2021-11-09 23:59')\n",
    "\n",
    "fig, ax = plot_histograms('signal_07', expanded_results, freq='10min', fig_width=6, fig_height=6, start=plot_start, end=plot_end)\n",
    "plt.show()"
   ]
  },
  {
   "cell_type": "markdown",
   "id": "4e888a28",
   "metadata": {},
   "source": [
    "## Conclusion\n",
    "---\n",
    "In this notebook, you extracted the raw results from the anomaly detection model you trained previously and experimented with a few post-processing techniques to get more insights from your model results."
   ]
  }
 ],
 "metadata": {
  "kernelspec": {
   "display_name": "conda_python3",
   "language": "python",
   "name": "conda_python3"
  },
  "language_info": {
   "codemirror_mode": {
    "name": "ipython",
    "version": 3
   },
   "file_extension": ".py",
   "mimetype": "text/x-python",
   "name": "python",
   "nbconvert_exporter": "python",
   "pygments_lexer": "ipython3",
   "version": "3.8.12"
  }
 },
 "nbformat": 4,
 "nbformat_minor": 5
}
