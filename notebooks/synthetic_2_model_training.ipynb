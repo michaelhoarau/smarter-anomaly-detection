{
 "cells": [
  {
   "cell_type": "markdown",
   "id": "6ce63967",
   "metadata": {},
   "source": [
    "# **Smarter anomaly detection** - Training an anomaly detection model\n",
    "*Part 2 - Model training*"
   ]
  },
  {
   "cell_type": "markdown",
   "id": "9ae50ce4",
   "metadata": {},
   "source": [
    "## Initialization\n",
    "---\n",
    "This repository is structured as follow:\n",
    "\n",
    "```sh\n",
    ". smarter-anomaly-detection\n",
    "|\n",
    "├── data/\n",
    "|   ├── interim                          # Temporary intermediate data are stored here\n",
    "|   ├── processed                        # Finalized datasets ready to be moved to Amazon S3\n",
    "|   └── raw                              # Immutable original data are stored here\n",
    "|\n",
    "└── notebooks/\n",
    "    ├── 1_data_preparation.ipynb\n",
    "    ├── 2_model_training.ipynb           <<< THIS NOTEBOOK <<<\n",
    "    └── 3_model_evaluation.ipynb\n",
    "```"
   ]
  },
  {
   "cell_type": "markdown",
   "id": "0ff60edf",
   "metadata": {},
   "source": [
    "### Notebook configuration update"
   ]
  },
  {
   "cell_type": "code",
   "execution_count": null,
   "id": "6a598c84",
   "metadata": {},
   "outputs": [],
   "source": [
    "!python -m pip install --upgrade pip\n",
    "!pip install --quiet --upgrade sagemaker tqdm lookoutequipment"
   ]
  },
  {
   "cell_type": "markdown",
   "id": "19bec2ff",
   "metadata": {},
   "source": [
    "### Imports"
   ]
  },
  {
   "cell_type": "code",
   "execution_count": null,
   "id": "efb6f714",
   "metadata": {},
   "outputs": [],
   "source": [
    "import synthetic_config as config\n",
    "import os\n",
    "import pandas as pd\n",
    "import sagemaker\n",
    "\n",
    "from datetime import datetime\n",
    "\n",
    "# SDK / toolbox for managing Lookout for Equipment API calls:\n",
    "import lookoutequipment as lookout"
   ]
  },
  {
   "cell_type": "code",
   "execution_count": null,
   "id": "3da530dc",
   "metadata": {},
   "outputs": [],
   "source": [
    "PROCESSED_DATA = os.path.join('..', 'data', 'processed')\n",
    "TRAIN_DATA     = os.path.join(PROCESSED_DATA, 'train-data')\n",
    "\n",
    "ROLE_ARN        = sagemaker.get_execution_role()\n",
    "DATASET_NAME    = config.DATASET_NAME\n",
    "MODEL_NAME      = config.MODEL_NAME\n",
    "BUCKET          = config.BUCKET\n",
    "PREFIX_TRAINING = config.PREFIX_TRAINING\n",
    "PREFIX_LABEL    = config.PREFIX_LABEL"
   ]
  },
  {
   "cell_type": "markdown",
   "id": "9a2612ba",
   "metadata": {},
   "source": [
    "## Data ingestion\n",
    "---"
   ]
  },
  {
   "cell_type": "code",
   "execution_count": null,
   "id": "5d866045",
   "metadata": {},
   "outputs": [],
   "source": [
    "lookout_dataset = lookout.LookoutEquipmentDataset(\n",
    "    dataset_name=DATASET_NAME,\n",
    "    component_root_dir=f's3://{BUCKET}/{PREFIX_TRAINING}',\n",
    "    access_role_arn=ROLE_ARN\n",
    ")\n",
    "lookout_dataset.create()\n",
    "response = lookout_dataset.ingest_data(BUCKET, PREFIX_TRAINING)"
   ]
  },
  {
   "cell_type": "markdown",
   "id": "39466ec3",
   "metadata": {},
   "source": [
    "We use the following cell to monitor the ingestion process by calling the following method, which encapsulates the [**DescribeDataIngestionJob**](https://docs.aws.amazon.com/lookout-for-equipment/latest/ug/API_DescribeDataIngestionJob.html) API and runs it every 60 seconds:"
   ]
  },
  {
   "cell_type": "code",
   "execution_count": null,
   "id": "15b32c83",
   "metadata": {},
   "outputs": [],
   "source": [
    "lookout_dataset.poll_data_ingestion(sleep_time=15)"
   ]
  },
  {
   "cell_type": "markdown",
   "id": "7e90475d",
   "metadata": {},
   "source": [
    "In case any issue arise, you can inspect the API response available as a JSON document:"
   ]
  },
  {
   "cell_type": "code",
   "execution_count": null,
   "id": "7fbb4ef1",
   "metadata": {},
   "outputs": [],
   "source": [
    "lookout_dataset.ingestion_job_response"
   ]
  },
  {
   "cell_type": "markdown",
   "id": "9ae41e78",
   "metadata": {},
   "source": [
    "## Model training\n",
    "---"
   ]
  },
  {
   "cell_type": "code",
   "execution_count": null,
   "id": "a2fe8034",
   "metadata": {},
   "outputs": [],
   "source": [
    "# Configuring time ranges:\n",
    "training_start   = pd.to_datetime('2021-01-01 00:00:00')\n",
    "training_end     = pd.to_datetime('2021-05-31 23:55:00')\n",
    "evaluation_start = pd.to_datetime('2021-06-01 00:00:00')\n",
    "evaluation_end   = pd.to_datetime('2021-12-31 23:55:00')\n",
    "\n",
    "print(f'  Training period | from {training_start} to {training_end}')\n",
    "print(f'Evaluation period | from {evaluation_start} to {evaluation_end}')"
   ]
  },
  {
   "cell_type": "code",
   "execution_count": null,
   "id": "2c70d0cc",
   "metadata": {},
   "outputs": [],
   "source": [
    "lookout_model = lookout.LookoutEquipmentModel(model_name=MODEL_NAME, dataset_name=DATASET_NAME)\n",
    "lookout_model.set_time_periods(evaluation_start, evaluation_end, training_start, training_end)\n",
    "lookout_model.set_label_data(bucket=BUCKET, prefix=PREFIX_LABEL, access_role_arn=ROLE_ARN)\n",
    "lookout_model.train()"
   ]
  },
  {
   "cell_type": "markdown",
   "id": "10d7ebd4",
   "metadata": {},
   "source": [
    "A training is now in progress. Use the following cell to capture the model training progress. **This model should take around 30-45 minutes to be trained:**"
   ]
  },
  {
   "cell_type": "code",
   "execution_count": null,
   "id": "957ce985",
   "metadata": {},
   "outputs": [],
   "source": [
    "lookout_model.poll_model_training(sleep_time=60)"
   ]
  },
  {
   "cell_type": "markdown",
   "id": "a60072a6",
   "metadata": {},
   "source": [
    "## Conclusion\n",
    "---\n",
    "In this notebook, you ingested the data you prepared previously and trained an anomaly detection model with Amazon Lookout for Equipment.\n",
    "\n",
    "In the next notebook of this series, you will dive into the results of this trained model."
   ]
  }
 ],
 "metadata": {
  "kernelspec": {
   "display_name": "conda_python3",
   "language": "python",
   "name": "conda_python3"
  },
  "language_info": {
   "codemirror_mode": {
    "name": "ipython",
    "version": 3
   },
   "file_extension": ".py",
   "mimetype": "text/x-python",
   "name": "python",
   "nbconvert_exporter": "python",
   "pygments_lexer": "ipython3",
   "version": "3.8.12"
  }
 },
 "nbformat": 4,
 "nbformat_minor": 5
}
