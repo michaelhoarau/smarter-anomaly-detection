{
 "cells": [
  {
   "cell_type": "markdown",
   "id": "ad01ee54",
   "metadata": {},
   "source": [
    "# **Smarter anomaly detection** - Training an anomaly detection model\n",
    "*Part 2 - Model training*"
   ]
  },
  {
   "cell_type": "markdown",
   "id": "e691d0a3",
   "metadata": {},
   "source": [
    "## Initialization\n",
    "---\n",
    "This repository is structured as follow:\n",
    "\n",
    "```sh\n",
    ". smarter-anomaly-detection\n",
    "|\n",
    "├── data/\n",
    "|   ├── interim                          # Temporary intermediate data are stored here\n",
    "|   ├── processed                        # Finalized datasets ready to be moved to Amazon S3\n",
    "|   └── raw                              # Immutable original data are stored here\n",
    "|\n",
    "└── notebooks/\n",
    "    ├── 1_data_preparation.ipynb\n",
    "    ├── 2_model_training.ipynb           <<< THIS NOTEBOOK <<<\n",
    "    └── 3_model_evaluation.ipynb\n",
    "```"
   ]
  },
  {
   "cell_type": "markdown",
   "id": "e3918d03",
   "metadata": {},
   "source": [
    "### Notebook configuration update"
   ]
  },
  {
   "cell_type": "code",
   "execution_count": null,
   "id": "07f57fd7",
   "metadata": {},
   "outputs": [],
   "source": [
    "!python -m pip install --upgrade pip\n",
    "!pip install --quiet --upgrade sagemaker tqdm lookoutequipment"
   ]
  },
  {
   "cell_type": "markdown",
   "id": "83834677",
   "metadata": {},
   "source": [
    "### Imports"
   ]
  },
  {
   "cell_type": "code",
   "execution_count": 20,
   "id": "07db4f45",
   "metadata": {},
   "outputs": [],
   "source": [
    "import synthetic_config as config\n",
    "import os\n",
    "import pandas as pd\n",
    "import sagemaker\n",
    "\n",
    "from datetime import datetime\n",
    "\n",
    "# SDK / toolbox for managing Lookout for Equipment API calls:\n",
    "import lookoutequipment as lookout"
   ]
  },
  {
   "cell_type": "code",
   "execution_count": 21,
   "id": "13fb9674",
   "metadata": {},
   "outputs": [],
   "source": [
    "PROCESSED_DATA = os.path.join('..', 'data', 'processed')\n",
    "TRAIN_DATA     = os.path.join(PROCESSED_DATA, 'train-data')\n",
    "\n",
    "ROLE_ARN        = sagemaker.get_execution_role()\n",
    "DATASET_NAME    = config.DATASET_NAME\n",
    "MODEL_NAME      = config.MODEL_NAME\n",
    "BUCKET          = config.BUCKET\n",
    "PREFIX_TRAINING = config.PREFIX_TRAINING\n",
    "PREFIX_LABEL    = config.PREFIX_LABEL"
   ]
  },
  {
   "cell_type": "markdown",
   "id": "c0dc2334",
   "metadata": {},
   "source": [
    "## Data ingestion\n",
    "---"
   ]
  },
  {
   "cell_type": "code",
   "execution_count": 22,
   "id": "8d38a119",
   "metadata": {},
   "outputs": [
    {
     "name": "stdout",
     "output_type": "stream",
     "text": [
      "Dataset \"synthetic\" does not exist, creating it...\n",
      "\n"
     ]
    }
   ],
   "source": [
    "lookout_dataset = lookout.LookoutEquipmentDataset(\n",
    "    dataset_name=DATASET_NAME,\n",
    "    component_root_dir=f's3://{BUCKET}/{PREFIX_TRAINING}',\n",
    "    access_role_arn=ROLE_ARN\n",
    ")\n",
    "lookout_dataset.create()\n",
    "response = lookout_dataset.ingest_data(BUCKET, PREFIX_TRAINING)"
   ]
  },
  {
   "cell_type": "markdown",
   "id": "26c4f907",
   "metadata": {},
   "source": [
    "We use the following cell to monitor the ingestion process by calling the following method, which encapsulates the [**DescribeDataIngestionJob**](https://docs.aws.amazon.com/lookout-for-equipment/latest/ug/API_DescribeDataIngestionJob.html) API and runs it every 60 seconds:"
   ]
  },
  {
   "cell_type": "code",
   "execution_count": 24,
   "id": "131fa65e",
   "metadata": {},
   "outputs": [
    {
     "name": "stdout",
     "output_type": "stream",
     "text": [
      "2022-04-28 11:00:13 | Data ingestion: IN_PROGRESS\n",
      "2022-04-28 11:00:28 | Data ingestion: IN_PROGRESS\n",
      "2022-04-28 11:00:43 | Data ingestion: IN_PROGRESS\n",
      "2022-04-28 11:00:58 | Data ingestion: IN_PROGRESS\n",
      "2022-04-28 11:01:13 | Data ingestion: IN_PROGRESS\n",
      "2022-04-28 11:01:28 | Data ingestion: IN_PROGRESS\n",
      "2022-04-28 11:01:43 | Data ingestion: IN_PROGRESS\n",
      "2022-04-28 11:01:58 | Data ingestion: IN_PROGRESS\n",
      "2022-04-28 11:02:13 | Data ingestion: IN_PROGRESS\n",
      "2022-04-28 11:02:28 | Data ingestion: IN_PROGRESS\n",
      "2022-04-28 11:02:43 | Data ingestion: IN_PROGRESS\n",
      "2022-04-28 11:02:58 | Data ingestion: IN_PROGRESS\n",
      "2022-04-28 11:03:14 | Data ingestion: IN_PROGRESS\n",
      "2022-04-28 11:03:29 | Data ingestion: SUCCESS\n"
     ]
    }
   ],
   "source": [
    "lookout_dataset.poll_data_ingestion(sleep_time=15)"
   ]
  },
  {
   "cell_type": "markdown",
   "id": "7f55772c",
   "metadata": {},
   "source": [
    "In case any issue arise, you can inspect the API response available as a JSON document:"
   ]
  },
  {
   "cell_type": "code",
   "execution_count": 25,
   "id": "3c8742cf",
   "metadata": {},
   "outputs": [
    {
     "data": {
      "text/plain": [
       "{'JobId': '4878e28684ff2777faf9e388a98b5928',\n",
       " 'DatasetArn': 'arn:aws:lookoutequipment:eu-west-1:038552646228:dataset/synthetic/16a8b92f-ffda-4031-b5ca-85f1e4aaa6f7',\n",
       " 'IngestionInputConfiguration': {'S3InputConfiguration': {'Bucket': 'lookout-equipment-poc',\n",
       "   'Prefix': 'smarter-anomaly-detection-synth/training-data/'}},\n",
       " 'RoleArn': 'arn:aws:iam::038552646228:role/service-role/AmazonSageMaker-ExecutionRole-20210903T075832',\n",
       " 'CreatedAt': datetime.datetime(2022, 4, 28, 10, 59, 48, 948000, tzinfo=tzlocal()),\n",
       " 'Status': 'SUCCESS',\n",
       " 'ResponseMetadata': {'RequestId': '4b82d48d-7b4d-46a0-8957-7b100911c8a0',\n",
       "  'HTTPStatusCode': 200,\n",
       "  'HTTPHeaders': {'x-amzn-requestid': '4b82d48d-7b4d-46a0-8957-7b100911c8a0',\n",
       "   'content-type': 'application/x-amz-json-1.0',\n",
       "   'content-length': '1074',\n",
       "   'date': 'Thu, 28 Apr 2022 11:03:28 GMT'},\n",
       "  'RetryAttempts': 0}}"
      ]
     },
     "execution_count": 25,
     "metadata": {},
     "output_type": "execute_result"
    }
   ],
   "source": [
    "lookout_dataset.ingestion_job_response"
   ]
  },
  {
   "cell_type": "markdown",
   "id": "8a6e3386",
   "metadata": {},
   "source": [
    "## Model training\n",
    "---"
   ]
  },
  {
   "cell_type": "code",
   "execution_count": 26,
   "id": "9ba99ecd",
   "metadata": {},
   "outputs": [
    {
     "name": "stdout",
     "output_type": "stream",
     "text": [
      "  Training period | from 2021-01-01 00:00:00 to 2021-05-31 23:55:00\n",
      "Evaluation period | from 2021-06-01 00:00:00 to 2021-12-31 23:55:00\n"
     ]
    }
   ],
   "source": [
    "# Configuring time ranges:\n",
    "training_start   = pd.to_datetime('2021-01-01 00:00:00')\n",
    "training_end     = pd.to_datetime('2021-05-31 23:55:00')\n",
    "evaluation_start = pd.to_datetime('2021-06-01 00:00:00')\n",
    "evaluation_end   = pd.to_datetime('2021-12-31 23:55:00')\n",
    "\n",
    "print(f'  Training period | from {training_start} to {training_end}')\n",
    "print(f'Evaluation period | from {evaluation_start} to {evaluation_end}')"
   ]
  },
  {
   "cell_type": "code",
   "execution_count": 27,
   "id": "317c0c39",
   "metadata": {},
   "outputs": [
    {
     "data": {
      "text/plain": [
       "{'ModelArn': 'arn:aws:lookoutequipment:eu-west-1:038552646228:model/synthetic-model/aeb0fe98-b68c-40fc-980a-7c4ced39b68d',\n",
       " 'Status': 'IN_PROGRESS',\n",
       " 'ResponseMetadata': {'RequestId': '463e8e85-a95f-4c6d-bd6f-0bfa00d7c658',\n",
       "  'HTTPStatusCode': 200,\n",
       "  'HTTPHeaders': {'x-amzn-requestid': '463e8e85-a95f-4c6d-bd6f-0bfa00d7c658',\n",
       "   'content-type': 'application/x-amz-json-1.0',\n",
       "   'content-length': '144',\n",
       "   'date': 'Thu, 28 Apr 2022 11:04:15 GMT'},\n",
       "  'RetryAttempts': 0}}"
      ]
     },
     "execution_count": 27,
     "metadata": {},
     "output_type": "execute_result"
    }
   ],
   "source": [
    "lookout_model = lookout.LookoutEquipmentModel(model_name=MODEL_NAME, dataset_name=DATASET_NAME)\n",
    "lookout_model.set_time_periods(evaluation_start, evaluation_end, training_start, training_end)\n",
    "lookout_model.set_label_data(bucket=BUCKET, prefix=PREFIX_LABEL, access_role_arn=ROLE_ARN)\n",
    "lookout_model.train()"
   ]
  },
  {
   "cell_type": "markdown",
   "id": "5bcb43c8",
   "metadata": {},
   "source": [
    "A training is now in progress. Use the following cell to capture the model training progress. **This model should take around 30-45 minutes to be trained:**"
   ]
  },
  {
   "cell_type": "code",
   "execution_count": 28,
   "id": "1260735d",
   "metadata": {},
   "outputs": [
    {
     "name": "stdout",
     "output_type": "stream",
     "text": [
      "2022-04-28 11:05:19 | Model training: IN_PROGRESS\n",
      "2022-04-28 11:06:19 | Model training: IN_PROGRESS\n",
      "2022-04-28 11:07:19 | Model training: IN_PROGRESS\n",
      "2022-04-28 11:08:19 | Model training: IN_PROGRESS\n",
      "2022-04-28 11:09:19 | Model training: IN_PROGRESS\n",
      "2022-04-28 11:10:19 | Model training: IN_PROGRESS\n",
      "2022-04-28 11:11:20 | Model training: IN_PROGRESS\n",
      "2022-04-28 11:12:20 | Model training: IN_PROGRESS\n",
      "2022-04-28 11:13:20 | Model training: IN_PROGRESS\n",
      "2022-04-28 11:14:20 | Model training: IN_PROGRESS\n",
      "2022-04-28 11:15:20 | Model training: IN_PROGRESS\n",
      "2022-04-28 11:16:20 | Model training: IN_PROGRESS\n",
      "2022-04-28 11:17:20 | Model training: IN_PROGRESS\n",
      "2022-04-28 11:18:20 | Model training: IN_PROGRESS\n",
      "2022-04-28 11:19:21 | Model training: SUCCESS\n"
     ]
    }
   ],
   "source": [
    "lookout_model.poll_model_training(sleep_time=60)"
   ]
  },
  {
   "cell_type": "markdown",
   "id": "735c1e45",
   "metadata": {},
   "source": [
    "## Conclusion\n",
    "---\n",
    "In this notebook, you ingested the data you prepared previously and trained an anomaly detection model with Amazon Lookout for Equipment.\n",
    "\n",
    "In the next notebook of this series, you will dive into the results of this trained model."
   ]
  }
 ],
 "metadata": {
  "kernelspec": {
   "display_name": "conda_python3",
   "language": "python",
   "name": "conda_python3"
  },
  "language_info": {
   "codemirror_mode": {
    "name": "ipython",
    "version": 3
   },
   "file_extension": ".py",
   "mimetype": "text/x-python",
   "name": "python",
   "nbconvert_exporter": "python",
   "pygments_lexer": "ipython3",
   "version": "3.8.12"
  }
 },
 "nbformat": 4,
 "nbformat_minor": 5
}
