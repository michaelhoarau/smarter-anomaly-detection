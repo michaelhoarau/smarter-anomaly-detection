{
 "cells": [
  {
   "cell_type": "markdown",
   "id": "0a79ab33",
   "metadata": {},
   "source": [
    "# **Smarter anomaly detection** - Training an anomaly detection model\n",
    "*Part 2 - Model training*"
   ]
  },
  {
   "cell_type": "markdown",
   "id": "42d572a9",
   "metadata": {},
   "source": [
    "## Initialization\n",
    "---\n",
    "This repository is structured as follow:\n",
    "\n",
    "```sh\n",
    ". smarter-anomaly-detection\n",
    "|\n",
    "├── data/\n",
    "|   ├── interim                          # Temporary intermediate data are stored here\n",
    "|   ├── processed                        # Finalized datasets ready to be moved to Amazon S3\n",
    "|   └── raw                              # Immutable original data are stored here\n",
    "|\n",
    "└── notebooks/\n",
    "    ├── 1_data_preparation.ipynb\n",
    "    ├── 2_model_training.ipynb           <<< THIS NOTEBOOK <<<\n",
    "    └── 3_model_evaluation.ipynb\n",
    "```"
   ]
  },
  {
   "cell_type": "markdown",
   "id": "9624aec0",
   "metadata": {},
   "source": [
    "### Notebook configuration update"
   ]
  },
  {
   "cell_type": "code",
   "execution_count": null,
   "id": "b7fbc9b2",
   "metadata": {},
   "outputs": [],
   "source": [
    "!python -m pip install --upgrade pip\n",
    "!pip install --quiet --upgrade sagemaker tqdm lookoutequipment"
   ]
  },
  {
   "cell_type": "markdown",
   "id": "6b4a6c76",
   "metadata": {},
   "source": [
    "### Imports"
   ]
  },
  {
   "cell_type": "code",
   "execution_count": 1,
   "id": "cb540efa",
   "metadata": {},
   "outputs": [],
   "source": [
    "import config\n",
    "import os\n",
    "import pandas as pd\n",
    "import sagemaker\n",
    "\n",
    "from datetime import datetime\n",
    "\n",
    "# SDK / toolbox for managing Lookout for Equipment API calls:\n",
    "import lookoutequipment as lookout"
   ]
  },
  {
   "cell_type": "code",
   "execution_count": 2,
   "id": "9cf49cd8",
   "metadata": {},
   "outputs": [],
   "source": [
    "PROCESSED_DATA = os.path.join('..', 'data', 'processed')\n",
    "TRAIN_DATA     = os.path.join(PROCESSED_DATA, 'train-data')\n",
    "\n",
    "ROLE_ARN        = sagemaker.get_execution_role()\n",
    "DATASET_NAME    = config.DATASET_NAME\n",
    "MODEL_NAME      = config.MODEL_NAME\n",
    "BUCKET          = config.BUCKET\n",
    "PREFIX_TRAINING = config.PREFIX_TRAINING\n",
    "PREFIX_LABEL    = config.PREFIX_LABEL"
   ]
  },
  {
   "cell_type": "markdown",
   "id": "c4dfc561",
   "metadata": {},
   "source": [
    "## Data ingestion\n",
    "---"
   ]
  },
  {
   "cell_type": "code",
   "execution_count": 3,
   "id": "4d236081",
   "metadata": {},
   "outputs": [
    {
     "name": "stdout",
     "output_type": "stream",
     "text": [
      "Dataset \"water-pump\" does not exist, creating it...\n",
      "\n"
     ]
    }
   ],
   "source": [
    "lookout_dataset = lookout.LookoutEquipmentDataset(\n",
    "    dataset_name=DATASET_NAME,\n",
    "    component_root_dir=f's3://{BUCKET}/{PREFIX_TRAINING}',\n",
    "    access_role_arn=ROLE_ARN\n",
    ")\n",
    "lookout_dataset.create()\n",
    "response = lookout_dataset.ingest_data(BUCKET, PREFIX_TRAINING)"
   ]
  },
  {
   "cell_type": "markdown",
   "id": "698c881a",
   "metadata": {},
   "source": [
    "We use the following cell to monitor the ingestion process by calling the following method, which encapsulates the [**DescribeDataIngestionJob**](https://docs.aws.amazon.com/lookout-for-equipment/latest/ug/API_DescribeDataIngestionJob.html) API and runs it every 60 seconds:"
   ]
  },
  {
   "cell_type": "code",
   "execution_count": 4,
   "id": "0c73f252",
   "metadata": {},
   "outputs": [
    {
     "name": "stdout",
     "output_type": "stream",
     "text": [
      "2022-04-25 11:52:30 | Data ingestion: IN_PROGRESS\n",
      "2022-04-25 11:53:30 | Data ingestion: IN_PROGRESS\n",
      "2022-04-25 11:54:30 | Data ingestion: IN_PROGRESS\n",
      "2022-04-25 11:55:30 | Data ingestion: SUCCESS\n"
     ]
    }
   ],
   "source": [
    "lookout_dataset.poll_data_ingestion(sleep_time=60)"
   ]
  },
  {
   "cell_type": "markdown",
   "id": "b8510752",
   "metadata": {},
   "source": [
    "In case any issue arise, you can inspect the API response available as a JSON document:"
   ]
  },
  {
   "cell_type": "code",
   "execution_count": 5,
   "id": "9dc3372b",
   "metadata": {},
   "outputs": [
    {
     "data": {
      "text/plain": [
       "{'JobId': '04902d874a5ddb422f0d79a56d875b9f',\n",
       " 'DatasetArn': 'arn:aws:lookoutequipment:eu-west-1:038552646228:dataset/water-pump/811910d0-4897-42b9-b35f-03cd0649a641',\n",
       " 'IngestionInputConfiguration': {'S3InputConfiguration': {'Bucket': 'lookout-equipment-poc',\n",
       "   'Prefix': 'smarter-ad/training-data/'}},\n",
       " 'RoleArn': 'arn:aws:iam::038552646228:role/service-role/AmazonSageMaker-ExecutionRole-20210903T075832',\n",
       " 'CreatedAt': datetime.datetime(2022, 4, 25, 11, 51, 27, 78000, tzinfo=tzlocal()),\n",
       " 'Status': 'SUCCESS',\n",
       " 'ResponseMetadata': {'RequestId': 'a6bb1563-6361-481f-926a-bd3668332417',\n",
       "  'HTTPStatusCode': 200,\n",
       "  'HTTPHeaders': {'x-amzn-requestid': 'a6bb1563-6361-481f-926a-bd3668332417',\n",
       "   'content-type': 'application/x-amz-json-1.0',\n",
       "   'content-length': '1063',\n",
       "   'date': 'Mon, 25 Apr 2022 11:55:30 GMT'},\n",
       "  'RetryAttempts': 0}}"
      ]
     },
     "execution_count": 5,
     "metadata": {},
     "output_type": "execute_result"
    }
   ],
   "source": [
    "lookout_dataset.ingestion_job_response"
   ]
  },
  {
   "cell_type": "markdown",
   "id": "72fdc2c5",
   "metadata": {},
   "source": [
    "## Model training\n",
    "---"
   ]
  },
  {
   "cell_type": "code",
   "execution_count": 6,
   "id": "f47d60fa",
   "metadata": {},
   "outputs": [
    {
     "name": "stdout",
     "output_type": "stream",
     "text": [
      "  Training period | from 2016-07-28 00:04:00 to 2017-03-31 23:59:00\n",
      "Evaluation period | from 2017-04-01 00:04:00 to 2018-08-31 23:59:00\n"
     ]
    }
   ],
   "source": [
    "# Configuring time ranges:\n",
    "training_start   = pd.to_datetime('2016-07-28 00:04:00')\n",
    "training_end     = pd.to_datetime('2017-03-31 23:59:00')\n",
    "evaluation_start = pd.to_datetime('2017-04-01 00:04:00')\n",
    "evaluation_end   = pd.to_datetime('2018-08-31 23:59:00')\n",
    "\n",
    "print(f'  Training period | from {training_start} to {training_end}')\n",
    "print(f'Evaluation period | from {evaluation_start} to {evaluation_end}')"
   ]
  },
  {
   "cell_type": "code",
   "execution_count": 7,
   "id": "5fc96851",
   "metadata": {},
   "outputs": [
    {
     "data": {
      "text/plain": [
       "{'ModelArn': 'arn:aws:lookoutequipment:eu-west-1:038552646228:model/water-pump-model/ca3e04ec-ee1f-43ab-a5d5-fb6ec9664798',\n",
       " 'Status': 'IN_PROGRESS',\n",
       " 'ResponseMetadata': {'RequestId': 'c058c670-1e51-4ca8-8df1-700a12549739',\n",
       "  'HTTPStatusCode': 200,\n",
       "  'HTTPHeaders': {'x-amzn-requestid': 'c058c670-1e51-4ca8-8df1-700a12549739',\n",
       "   'content-type': 'application/x-amz-json-1.0',\n",
       "   'content-length': '145',\n",
       "   'date': 'Mon, 25 Apr 2022 11:55:31 GMT'},\n",
       "  'RetryAttempts': 0}}"
      ]
     },
     "execution_count": 7,
     "metadata": {},
     "output_type": "execute_result"
    }
   ],
   "source": [
    "lookout_model = lookout.LookoutEquipmentModel(model_name=MODEL_NAME, dataset_name=DATASET_NAME)\n",
    "lookout_model.set_time_periods(evaluation_start, evaluation_end, training_start, training_end)\n",
    "lookout_model.set_label_data(bucket=BUCKET, prefix=PREFIX_LABEL, access_role_arn=ROLE_ARN)\n",
    "lookout_model.train()"
   ]
  },
  {
   "cell_type": "markdown",
   "id": "5240974e",
   "metadata": {},
   "source": [
    "A training is now in progress. Use the following cell to capture the model training progress. **This model should take around 30-45 minutes to be trained:**"
   ]
  },
  {
   "cell_type": "code",
   "execution_count": 8,
   "id": "56014444",
   "metadata": {},
   "outputs": [
    {
     "name": "stdout",
     "output_type": "stream",
     "text": [
      "2022-04-25 11:56:31 | Model training: IN_PROGRESS\n",
      "2022-04-25 11:57:31 | Model training: IN_PROGRESS\n",
      "2022-04-25 11:58:31 | Model training: IN_PROGRESS\n",
      "2022-04-25 11:59:31 | Model training: IN_PROGRESS\n",
      "2022-04-25 12:00:32 | Model training: IN_PROGRESS\n",
      "2022-04-25 12:01:32 | Model training: IN_PROGRESS\n",
      "2022-04-25 12:02:32 | Model training: IN_PROGRESS\n",
      "2022-04-25 12:03:32 | Model training: IN_PROGRESS\n",
      "2022-04-25 12:04:32 | Model training: IN_PROGRESS\n",
      "2022-04-25 12:05:32 | Model training: IN_PROGRESS\n",
      "2022-04-25 12:06:32 | Model training: IN_PROGRESS\n",
      "2022-04-25 12:07:33 | Model training: IN_PROGRESS\n",
      "2022-04-25 12:08:33 | Model training: IN_PROGRESS\n",
      "2022-04-25 12:09:33 | Model training: IN_PROGRESS\n",
      "2022-04-25 12:10:33 | Model training: IN_PROGRESS\n",
      "2022-04-25 12:11:33 | Model training: IN_PROGRESS\n",
      "2022-04-25 12:12:33 | Model training: IN_PROGRESS\n",
      "2022-04-25 12:13:33 | Model training: IN_PROGRESS\n",
      "2022-04-25 12:14:33 | Model training: IN_PROGRESS\n",
      "2022-04-25 12:15:34 | Model training: IN_PROGRESS\n",
      "2022-04-25 12:16:34 | Model training: IN_PROGRESS\n",
      "2022-04-25 12:17:34 | Model training: IN_PROGRESS\n",
      "2022-04-25 12:18:34 | Model training: IN_PROGRESS\n",
      "2022-04-25 12:19:34 | Model training: IN_PROGRESS\n",
      "2022-04-25 12:20:34 | Model training: IN_PROGRESS\n",
      "2022-04-25 12:21:34 | Model training: IN_PROGRESS\n",
      "2022-04-25 12:22:35 | Model training: IN_PROGRESS\n",
      "2022-04-25 12:23:35 | Model training: IN_PROGRESS\n",
      "2022-04-25 12:24:35 | Model training: IN_PROGRESS\n",
      "2022-04-25 12:25:35 | Model training: IN_PROGRESS\n",
      "2022-04-25 12:26:35 | Model training: IN_PROGRESS\n",
      "2022-04-25 12:27:35 | Model training: SUCCESS\n"
     ]
    }
   ],
   "source": [
    "lookout_model.poll_model_training(sleep_time=60)"
   ]
  },
  {
   "cell_type": "markdown",
   "id": "52c9f664",
   "metadata": {},
   "source": [
    "## Conclusion\n",
    "---\n",
    "In this notebook, you ingested the data you prepared previously and trained an anomaly detection model with Amazon Lookout for Equipment.\n",
    "\n",
    "In the next notebook of this series, you will dive into the results of this trained model."
   ]
  }
 ],
 "metadata": {
  "kernelspec": {
   "display_name": "conda_python3",
   "language": "python",
   "name": "conda_python3"
  },
  "language_info": {
   "codemirror_mode": {
    "name": "ipython",
    "version": 3
   },
   "file_extension": ".py",
   "mimetype": "text/x-python",
   "name": "python",
   "nbconvert_exporter": "python",
   "pygments_lexer": "ipython3",
   "version": "3.8.12"
  }
 },
 "nbformat": 4,
 "nbformat_minor": 5
}
